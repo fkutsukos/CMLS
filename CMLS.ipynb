{
 "cells": [
  {
   "cell_type": "code",
   "execution_count": 6,
   "metadata": {
    "collapsed": true,
    "pycharm": {
     "is_executing": false,
     "name": "#%%\n"
    }
   },
   "outputs": [],
   "source": [
    "import numpy as np\n",
    "import librosa\n",
    "%matplotlib inline\n",
    "\n",
    "\n",
    "def compute_zcr(win, Fs):\n",
    "    win_sign = np.sign(win)\n",
    "    N = win.shape[0] \n",
    "    sign_diff = np.abs(win_sign[:-1] - win_sign[1:])\n",
    "    zcr = (Fs / (2*N)) * np.sum(sign_diff)\n",
    "    return zcr\n",
    "\n",
    "\n",
    "def compute_speccentr(spec):\n",
    "    k_axis = np.arange(1, spec.shape[0] + 1)\n",
    "    centr = np.sum(np.transpose(k_axis) * np.abs(spec)) / np.sum(np.abs(spec))\n",
    "    return centr\n",
    "\n",
    "def compute_specdec(spec):\n",
    "    mul_fact  = 1 / np.sum(np.abs(spec[1:]))\n",
    "    num = np.abs(spec[1:]) - np.tile(np.abs(spec[0]), len(spec) - 1)\n",
    "    den = np.arange(1, len(spec))\n",
    "    spectral_decrease = mul_fact * np.sum(num / den)\n",
    "    return spectral_decrease\n"
   ]
  }
 ],
 "metadata": {
  "kernelspec": {
   "display_name": "Python 3",
   "language": "python",
   "name": "python3"
  },
  "language_info": {
   "codemirror_mode": {
    "name": "ipython",
    "version": 2
   },
   "file_extension": ".py",
   "mimetype": "text/x-python",
   "name": "python",
   "nbconvert_exporter": "python",
   "pygments_lexer": "ipython2",
   "version": "2.7.6"
  },
  "pycharm": {
   "stem_cell": {
    "cell_type": "raw",
    "source": [],
    "metadata": {
     "collapsed": false
    }
   }
  }
 },
 "nbformat": 4,
 "nbformat_minor": 0
}